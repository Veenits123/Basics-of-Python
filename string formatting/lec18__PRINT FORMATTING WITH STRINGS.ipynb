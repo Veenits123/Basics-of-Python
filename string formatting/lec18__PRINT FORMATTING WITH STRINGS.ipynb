{
 "cells": [
  {
   "cell_type": "markdown",
   "metadata": {},
   "source": [
    "## There are three ways of formatting the strings:\n",
    "#### 1. oldest method involves placeholders modulo % operator character\n",
    "### 2. .format() string method\n",
    "#### 3. Newest method uses formatted strings literals f-strings"
   ]
  },
  {
   "cell_type": "markdown",
   "metadata": {},
   "source": [
    "## 1. FORMATTING WITH PLACEHOLDERS"
   ]
  },
  {
   "cell_type": "markdown",
   "metadata": {},
   "source": [
    "We use ` %s ` to inject strings into print statements. \n",
    "The <code> % </code> is reffered as string formatting operator"
   ]
  },
  {
   "cell_type": "code",
   "execution_count": 2,
   "metadata": {},
   "outputs": [
    {
     "name": "stdout",
     "output_type": "stream",
     "text": [
      "I'm going to inject strings here\n"
     ]
    }
   ],
   "source": [
    "print(\"I'm going to inject %s here\" %'strings') # %s getting replaced by strings"
   ]
  },
  {
   "cell_type": "markdown",
   "metadata": {},
   "source": [
    "### We can pass multiple items by placinfg them inside a tuple after % operaator :\n",
    "like %('abc','xyz')"
   ]
  },
  {
   "cell_type": "code",
   "execution_count": 3,
   "metadata": {},
   "outputs": [
    {
     "name": "stdout",
     "output_type": "stream",
     "text": [
      "Who are you? and Why are you here?\n"
     ]
    }
   ],
   "source": [
    "print('Who are %s? and Why are you %s?' %('you','here'))"
   ]
  },
  {
   "cell_type": "markdown",
   "metadata": {},
   "source": [
    "### We can also pass Variable names:"
   ]
  },
  {
   "cell_type": "code",
   "execution_count": 4,
   "metadata": {},
   "outputs": [],
   "source": [
    "x,y = 'some','more'"
   ]
  },
  {
   "cell_type": "code",
   "execution_count": 6,
   "metadata": {},
   "outputs": [
    {
     "name": "stdout",
     "output_type": "stream",
     "text": [
      "I am going to inject some text here, and more text here.\n"
     ]
    }
   ],
   "source": [
    "print('I am going to inject %s text here, and %s text here.' %(x,y))"
   ]
  },
  {
   "cell_type": "markdown",
   "metadata": {},
   "source": [
    "## Format conversion methods:\n",
    " ### %s and %r converts any Pyhon object to strings by using two seperate methods str() and repr()"
   ]
  },
  {
   "cell_type": "markdown",
   "metadata": {},
   "source": [
    "%r and repr() delivers the string representations of objects including quotation marks and any escape character."
   ]
  },
  {
   "cell_type": "code",
   "execution_count": 8,
   "metadata": {},
   "outputs": [
    {
     "name": "stdout",
     "output_type": "stream",
     "text": [
      "He said his name was Veenit\n",
      "He said his name was 'Veenit'\n"
     ]
    }
   ],
   "source": [
    "print(\"He said his name was %s\" %'Veenit')\n",
    "print(\"He said his name was %r\" %'Veenit')"
   ]
  },
  {
   "cell_type": "code",
   "execution_count": 11,
   "metadata": {},
   "outputs": [
    {
     "name": "stdout",
     "output_type": "stream",
     "text": [
      "I once caught a fish this \tbig\n",
      "I once caught a fish 'this \\tbig'\n"
     ]
    }
   ],
   "source": [
    "print(\"I once caught a fish %s\" %'this \\tbig')\n",
    "print(\"I once caught a fish %r\" %'this \\tbig')"
   ]
  },
  {
   "cell_type": "markdown",
   "metadata": {},
   "source": [
    "### %s converts whatever it seems into a strings, including integers and floats.\n",
    " The ` %d `operator converts numbers to integers first, without rounding."
   ]
  },
  {
   "cell_type": "code",
   "execution_count": 12,
   "metadata": {},
   "outputs": [
    {
     "name": "stdout",
     "output_type": "stream",
     "text": [
      "I wrote 3.1444 programs today\n",
      "I wrote 3 programs today\n"
     ]
    }
   ],
   "source": [
    "print(\"I wrote %s programs today\" %3.1444)\n",
    "print(\"I wrote %d programs today\" %3.1444)"
   ]
  },
  {
   "cell_type": "markdown",
   "metadata": {},
   "source": [
    "## Padding and Precision of Floating point numbers"
   ]
  },
  {
   "cell_type": "markdown",
   "metadata": {},
   "source": [
    "Floating point numbers use the format <code> %5.2f </code>.\n",
    "      Here, 5 would be the minimum number of characters the string should contain; these may be padded with whitespace if entire number does not have this much digits."
   ]
  },
  {
   "cell_type": "markdown",
   "metadata": {},
   "source": [
    "Next to this <code> .2f </code> stands for how many numbers to show after the decimal point.   "
   ]
  },
  {
   "cell_type": "code",
   "execution_count": 80,
   "metadata": {},
   "outputs": [
    {
     "name": "stdout",
     "output_type": "stream",
     "text": [
      "Floating point numbers: 13.14\n"
     ]
    }
   ],
   "source": [
    "print(\"Floating point numbers: %5.2f\" %(13.144444))"
   ]
  },
  {
   "cell_type": "code",
   "execution_count": 7,
   "metadata": {},
   "outputs": [
    {
     "name": "stdout",
     "output_type": "stream",
     "text": [
      "Floating point numbers:      13.14\n"
     ]
    }
   ],
   "source": [
    "print(\"Floating point numbers: %10.2f\" %(13.144444))"
   ]
  },
  {
   "cell_type": "markdown",
   "metadata": {},
   "source": [
    "## Multiple formatting"
   ]
  },
  {
   "cell_type": "markdown",
   "metadata": {},
   "source": [
    "There is no restriction in using more than one conversion tool`(%s, %r, %d, %5.2f)` in the same <code> print </code> statement."
   ]
  },
  {
   "cell_type": "code",
   "execution_count": 15,
   "metadata": {},
   "outputs": [
    {
     "name": "stdout",
     "output_type": "stream",
     "text": [
      "First: Hiii!, Second: 19.46, Third: 'Veenit', Fourth: 12\n"
     ]
    }
   ],
   "source": [
    "print(\"First: %s, Second: %5.2f, Third: %r, Fourth: %d\" %(\"Hiii!\",19.4553,'Veenit',12.8575))"
   ]
  },
  {
   "cell_type": "markdown",
   "metadata": {},
   "source": [
    "."
   ]
  },
  {
   "cell_type": "markdown",
   "metadata": {},
   "source": [
    "."
   ]
  },
  {
   "cell_type": "markdown",
   "metadata": {},
   "source": [
    "# 2. FORMATTING WITH <code>.format()</code> METHOD"
   ]
  },
  {
   "cell_type": "markdown",
   "metadata": {},
   "source": [
    "Syntax: \"string here { } then also { }\".format('something1', 'something2')"
   ]
  },
  {
   "cell_type": "code",
   "execution_count": 32,
   "metadata": {},
   "outputs": [
    {
     "name": "stdout",
     "output_type": "stream",
     "text": [
      "This is the string INSERTED.\n"
     ]
    }
   ],
   "source": [
    "print(\"This is the string {}.\".format('INSERTED'))"
   ]
  },
  {
   "cell_type": "code",
   "execution_count": 35,
   "metadata": {},
   "outputs": [
    {
     "name": "stdout",
     "output_type": "stream",
     "text": [
      "Veenit is 19 years old.\n"
     ]
    }
   ],
   "source": [
    "print(\"{} is {} years old.\".format(\"Veenit\",19))"
   ]
  },
  {
   "cell_type": "markdown",
   "metadata": {},
   "source": [
    "## We can call Inserted objects by index position:"
   ]
  },
  {
   "cell_type": "code",
   "execution_count": 36,
   "metadata": {},
   "outputs": [
    {
     "name": "stdout",
     "output_type": "stream",
     "text": [
      "The brown quick fox.\n"
     ]
    }
   ],
   "source": [
    "print('The {} {} {}.'.format('brown','quick','fox')) # here we have not declared index in {} so it takes as ordered"
   ]
  },
  {
   "cell_type": "code",
   "execution_count": 37,
   "metadata": {},
   "outputs": [
    {
     "name": "stdout",
     "output_type": "stream",
     "text": [
      "The quick brown fox.\n"
     ]
    }
   ],
   "source": [
    "print('The {1} {0} {2}.'.format('brown','quick','fox'))"
   ]
  },
  {
   "cell_type": "markdown",
   "metadata": {},
   "source": [
    "## The inserted object can be assigned keywords:"
   ]
  },
  {
   "cell_type": "code",
   "execution_count": 39,
   "metadata": {},
   "outputs": [
    {
     "name": "stdout",
     "output_type": "stream",
     "text": [
      "The quick quick fox.\n"
     ]
    }
   ],
   "source": [
    "print(\"The {q} {b} {f}.\".format(f='fox',q='quick',b='brown'))"
   ]
  },
  {
   "cell_type": "markdown",
   "metadata": {},
   "source": [
    "## The inserted objects can be reused, avoid duplication:"
   ]
  },
  {
   "cell_type": "code",
   "execution_count": 43,
   "metadata": {},
   "outputs": [
    {
     "name": "stdout",
     "output_type": "stream",
     "text": [
      "A penny saved is penny earned.\n",
      "A penny saved is penny earned.\n"
     ]
    }
   ],
   "source": [
    "print(\"A %s saved is %s earned.\" %('penny','penny'))\n",
    "print(\"A {p} saved is {p} earned.\".format(p='penny'))"
   ]
  },
  {
   "cell_type": "markdown",
   "metadata": {},
   "source": [
    "# Padding and Precision"
   ]
  },
  {
   "cell_type": "markdown",
   "metadata": {},
   "source": [
    "syntax: <code> {value: width.precision*f*} </code>"
   ]
  },
  {
   "cell_type": "code",
   "execution_count": 58,
   "metadata": {},
   "outputs": [
    {
     "name": "stdout",
     "output_type": "stream",
     "text": [
      "This is my shit: 13.58\n"
     ]
    }
   ],
   "source": [
    "print('This is my shit:{r: 5.2f}'.format(r=13.579))"
   ]
  },
  {
   "cell_type": "code",
   "execution_count": 53,
   "metadata": {},
   "outputs": [],
   "source": [
    "num = 3.5678"
   ]
  },
  {
   "cell_type": "code",
   "execution_count": 56,
   "metadata": {},
   "outputs": [
    {
     "name": "stdout",
     "output_type": "stream",
     "text": [
      "This is again a bakchodi:       3.57\n"
     ]
    }
   ],
   "source": [
    "print('This is again a bakchodi: {0: 10.2f}'.format(num))"
   ]
  },
  {
   "cell_type": "markdown",
   "metadata": {},
   "source": [
    "."
   ]
  },
  {
   "cell_type": "markdown",
   "metadata": {},
   "source": [
    "."
   ]
  },
  {
   "cell_type": "markdown",
   "metadata": {},
   "source": [
    "# 3. FORMATTED STRINGS LITERALS (*f-strings*)"
   ]
  },
  {
   "cell_type": "markdown",
   "metadata": {},
   "source": [
    "Introduced in Python 3.6"
   ]
  },
  {
   "cell_type": "markdown",
   "metadata": {},
   "source": [
    "Advantage over *.format()* is that: \"we can bring outside variables immediately into the strings rather than passing them as arguments.\""
   ]
  },
  {
   "cell_type": "code",
   "execution_count": 60,
   "metadata": {},
   "outputs": [],
   "source": [
    "name = \"Veenit\""
   ]
  },
  {
   "cell_type": "code",
   "execution_count": 61,
   "metadata": {},
   "outputs": [
    {
     "name": "stdout",
     "output_type": "stream",
     "text": [
      "I said my name is Veenit.\n"
     ]
    }
   ],
   "source": [
    "print(f'I said my name is {name}.')"
   ]
  },
  {
   "cell_type": "code",
   "execution_count": 62,
   "metadata": {},
   "outputs": [],
   "source": [
    "name, age = \"Vee_nit\",19"
   ]
  },
  {
   "cell_type": "code",
   "execution_count": 63,
   "metadata": {},
   "outputs": [
    {
     "name": "stdout",
     "output_type": "stream",
     "text": [
      "Vee_nit is 19 years old.\n"
     ]
    }
   ],
   "source": [
    "print(f'{name} is {age} years old.')"
   ]
  },
  {
   "cell_type": "markdown",
   "metadata": {},
   "source": [
    "### Pass <code> !r </code> to get string representation."
   ]
  },
  {
   "cell_type": "code",
   "execution_count": 71,
   "metadata": {},
   "outputs": [
    {
     "name": "stdout",
     "output_type": "stream",
     "text": [
      "'Vee_nit' is very bakchod.\n",
      "'Vee_nit' is very bakchod.\n"
     ]
    }
   ],
   "source": [
    "print(f\"{repr(name)} is very bakchod.\")\n",
    "print(f'{name !r} is very bakchod.')"
   ]
  },
  {
   "cell_type": "markdown",
   "metadata": {},
   "source": [
    "## Padding and Precision"
   ]
  },
  {
   "cell_type": "markdown",
   "metadata": {},
   "source": [
    "syntax: <code> {value: {width}.{precision}}</code>"
   ]
  },
  {
   "cell_type": "code",
   "execution_count": 72,
   "metadata": {},
   "outputs": [],
   "source": [
    "num = 23.45678"
   ]
  },
  {
   "cell_type": "code",
   "execution_count": 74,
   "metadata": {},
   "outputs": [
    {
     "name": "stdout",
     "output_type": "stream",
     "text": [
      "My shit done:  23.45678\n"
     ]
    }
   ],
   "source": [
    "print(f\"My shit done: {num: {2}.{10}}\")"
   ]
  },
  {
   "cell_type": "markdown",
   "metadata": {},
   "source": [
    "Note: *f-strings* precision refers to total numbers of digits, not just those following the decimal.\n",
    "This is similar to scientific notation and statistical analysis."
   ]
  },
  {
   "cell_type": "code",
   "execution_count": 77,
   "metadata": {},
   "outputs": [
    {
     "name": "stdout",
     "output_type": "stream",
     "text": [
      "My shit done:  23.4567800000\n",
      "My shit done:  23.45678\n"
     ]
    }
   ],
   "source": [
    "print(\"My shit done: {0: 5.10f}\".format(num))\n",
    "print(f\"My shit done: {num: {5}.{10}}\")"
   ]
  },
  {
   "cell_type": "markdown",
   "metadata": {},
   "source": [
    "But if this become important, we can always use *.format()* syntax inside *f-strings*"
   ]
  },
  {
   "cell_type": "code",
   "execution_count": 78,
   "metadata": {},
   "outputs": [
    {
     "name": "stdout",
     "output_type": "stream",
     "text": [
      "My shit done:  23.4567800000\n"
     ]
    }
   ],
   "source": [
    "print(f\"My shit done: {num: 5.10f}\")"
   ]
  },
  {
   "cell_type": "markdown",
   "metadata": {},
   "source": [
    "## That's all for this lecture we will move onto *LISTS* now!!!"
   ]
  },
  {
   "cell_type": "markdown",
   "metadata": {},
   "source": [
    "."
   ]
  },
  {
   "cell_type": "code",
   "execution_count": null,
   "metadata": {},
   "outputs": [],
   "source": []
  }
 ],
 "metadata": {
  "kernelspec": {
   "display_name": "Python 3",
   "language": "python",
   "name": "python3"
  },
  "language_info": {
   "codemirror_mode": {
    "name": "ipython",
    "version": 3
   },
   "file_extension": ".py",
   "mimetype": "text/x-python",
   "name": "python",
   "nbconvert_exporter": "python",
   "pygments_lexer": "ipython3",
   "version": "3.6.5"
  }
 },
 "nbformat": 4,
 "nbformat_minor": 2
}
