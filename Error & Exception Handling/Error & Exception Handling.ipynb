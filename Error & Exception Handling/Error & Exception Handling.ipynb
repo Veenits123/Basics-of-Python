{
 "cells": [
  {
   "cell_type": "markdown",
   "metadata": {},
   "source": [
    "# Error & Exception Handling"
   ]
  },
  {
   "cell_type": "markdown",
   "metadata": {},
   "source": [
    "##### In error & exception handling we use 3 keywords:"
   ]
  },
  {
   "cell_type": "markdown",
   "metadata": {},
   "source": [
    "a) try : This is the block of code to be attempted(may lead to an error)."
   ]
  },
  {
   "cell_type": "markdown",
   "metadata": {},
   "source": [
    "b) except : Block of code will execute in case there is an error in try block."
   ]
  },
  {
   "cell_type": "markdown",
   "metadata": {},
   "source": [
    "c) finally : A final block of code to be executed, regardless of an error."
   ]
  },
  {
   "cell_type": "code",
   "execution_count": 1,
   "metadata": {},
   "outputs": [
    {
     "name": "stdout",
     "output_type": "stream",
     "text": [
      "20\n"
     ]
    }
   ],
   "source": [
    "try:\n",
    "    result =10+10\n",
    "except: \n",
    "    print(\"Wrong Input, can't add!\")\n",
    "else:\n",
    "    print(result)"
   ]
  },
  {
   "cell_type": "code",
   "execution_count": 1,
   "metadata": {},
   "outputs": [
    {
     "name": "stdout",
     "output_type": "stream",
     "text": [
      "There was a OS error!\n",
      "I always run.\n"
     ]
    }
   ],
   "source": [
    "try:\n",
    "    f=open('testfile', 'r')\n",
    "    f.write('Write a test line')\n",
    "except TypeError: \n",
    "    print(\"There was a type error!\")\n",
    "except OSError: \n",
    "    print(\"There was a OS error!\")\n",
    "finally:\n",
    "    print('I always run.')"
   ]
  },
  {
   "cell_type": "code",
   "execution_count": null,
   "metadata": {},
   "outputs": [],
   "source": []
  }
 ],
 "metadata": {
  "kernelspec": {
   "display_name": "Python 3",
   "language": "python",
   "name": "python3"
  },
  "language_info": {
   "codemirror_mode": {
    "name": "ipython",
    "version": 3
   },
   "file_extension": ".py",
   "mimetype": "text/x-python",
   "name": "python",
   "nbconvert_exporter": "python",
   "pygments_lexer": "ipython3",
   "version": "3.7.1"
  }
 },
 "nbformat": 4,
 "nbformat_minor": 2
}
