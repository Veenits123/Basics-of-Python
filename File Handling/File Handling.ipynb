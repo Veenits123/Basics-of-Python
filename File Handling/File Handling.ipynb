{
 "cells": [
  {
   "cell_type": "markdown",
   "metadata": {},
   "source": [
    "'r' - read mode which is used when the file is only being read.\n",
    "\n",
    "'w' - write mode which is used to edit & write new things into the file\n",
    "\n",
    "'a' - append mode which is used to add the new data in the end\n",
    "\n",
    "'r+' - special read and write mode, which is used to do both read and write to the file."
   ]
  },
  {
   "cell_type": "markdown",
   "metadata": {},
   "source": [
    "# For writing in file:"
   ]
  },
  {
   "cell_type": "code",
   "execution_count": 1,
   "metadata": {},
   "outputs": [],
   "source": [
    "with open(\"file.txt\", \"w\") as myfile:\n",
    "    myfile.write(\"This is a demo line.\")\n",
    "myfile.close()"
   ]
  },
  {
   "cell_type": "markdown",
   "metadata": {},
   "source": [
    "# For reading the file:"
   ]
  },
  {
   "cell_type": "code",
   "execution_count": 2,
   "metadata": {},
   "outputs": [
    {
     "name": "stdout",
     "output_type": "stream",
     "text": [
      "This is a demo line.\n"
     ]
    }
   ],
   "source": [
    "with open(\"file.txt\", \"r\") as myfile:\n",
    "    print(myfile.read())\n",
    "myfile.close()"
   ]
  },
  {
   "cell_type": "code",
   "execution_count": 3,
   "metadata": {},
   "outputs": [
    {
     "name": "stdout",
     "output_type": "stream",
     "text": [
      "This is a demo line.\n"
     ]
    }
   ],
   "source": [
    "with open(\"file.txt\") as myfile:\n",
    "    print(myfile.read())\n",
    "myfile.close()"
   ]
  },
  {
   "cell_type": "markdown",
   "metadata": {},
   "source": [
    "# For reading and writing:"
   ]
  },
  {
   "cell_type": "code",
   "execution_count": 8,
   "metadata": {},
   "outputs": [
    {
     "name": "stdout",
     "output_type": "stream",
     "text": [
      "This is a demo line.\n"
     ]
    }
   ],
   "source": [
    "with open(\"file.txt\", \"r+\") as myfile:\n",
    "    print(myfile.read())\n",
    "    myfile.write(\" This is the 2nd demo line.\")\n",
    "myfile.close()"
   ]
  },
  {
   "cell_type": "code",
   "execution_count": 9,
   "metadata": {},
   "outputs": [
    {
     "name": "stdout",
     "output_type": "stream",
     "text": [
      "This is a demo line. This is the 2nd demo line.\n"
     ]
    }
   ],
   "source": [
    "with open(\"file.txt\") as myfile:\n",
    "    print(myfile.read())\n",
    "myfile.close()"
   ]
  }
 ],
 "metadata": {
  "kernelspec": {
   "display_name": "Python 3",
   "language": "python",
   "name": "python3"
  },
  "language_info": {
   "codemirror_mode": {
    "name": "ipython",
    "version": 3
   },
   "file_extension": ".py",
   "mimetype": "text/x-python",
   "name": "python",
   "nbconvert_exporter": "python",
   "pygments_lexer": "ipython3",
   "version": "3.7.1"
  }
 },
 "nbformat": 4,
 "nbformat_minor": 2
}
