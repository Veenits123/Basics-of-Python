{
 "cells": [
  {
   "cell_type": "code",
   "execution_count": 21,
   "metadata": {},
   "outputs": [
    {
     "name": "stdout",
     "output_type": "stream",
     "text": [
      "The current value of x is 0\n",
      "x is still less than 10, adding 1 to x\n",
      "The current value of x is 1\n",
      "x is still less than 10, adding 1 to x\n",
      "The current value of x is 2\n",
      "x is still less than 10, adding 1 to x\n",
      "The current value of x is 3\n",
      "x is still less than 10, adding 1 to x\n",
      "The current value of x is 4\n",
      "x is still less than 10, adding 1 to x\n",
      "The current value of x is 5\n",
      "x is still less than 10, adding 1 to x\n",
      "The current value of x is 6\n",
      "x is still less than 10, adding 1 to x\n",
      "The current value of x is 7\n",
      "x is still less than 10, adding 1 to x\n",
      "The current value of x is 8\n",
      "x is still less than 10, adding 1 to x\n",
      "The current value of x is 9\n",
      "x is still less than 10, adding 1 to x\n"
     ]
    }
   ],
   "source": [
    "x = 0\n",
    "\n",
    "while x < 10:\n",
    "    print(f'The current value of x is {x}')\n",
    "    print('x is still less than 10, adding 1 to x')\n",
    "    x += 1"
   ]
  },
  {
   "cell_type": "code",
   "execution_count": 3,
   "metadata": {},
   "outputs": [
    {
     "name": "stdout",
     "output_type": "stream",
     "text": [
      "Current value of x = 0\n",
      "Current value of x = 1\n",
      "Current value of x = 2\n",
      "Current value of x = 3\n",
      "Current value of x = 4\n",
      "Current value of x = 5\n",
      "Current value of x = 6\n",
      "Current value of x = 7\n",
      "Current value of x = 8\n",
      "Current value of x = 9\n",
      "All done!!\n"
     ]
    }
   ],
   "source": [
    "x = 0\n",
    "\n",
    "while x < 10:\n",
    "    print('Current value of x = {}'.format(x))\n",
    "    x += 1\n",
    "else:\n",
    "    print('All done!!')"
   ]
  },
  {
   "cell_type": "code",
   "execution_count": 5,
   "metadata": {},
   "outputs": [
    {
     "name": "stdout",
     "output_type": "stream",
     "text": [
      "x is not less than 10\n"
     ]
    }
   ],
   "source": [
    "x = 100\n",
    "\n",
    "while x < 10:\n",
    "    print(f'current value of x is {x}')\n",
    "    x += 1\n",
    "else:\n",
    "    print('x is not less than 10')"
   ]
  },
  {
   "cell_type": "markdown",
   "metadata": {},
   "source": [
    "# <code>*while*</code> loops will continue to execute a block of code as long as condition is True.\n",
    "\n",
    "The reason it is called loop beacuse the code statement are looped through over and over again until the condition is no longer met.\n",
    "\n",
    "The code stops executing immediately as the condition becomes False."
   ]
  },
  {
   "cell_type": "markdown",
   "metadata": {},
   "source": [
    "."
   ]
  },
  {
   "cell_type": "markdown",
   "metadata": {},
   "source": [
    "# break\n",
    "\n",
    "Breaks out of the current closest enclosing loop."
   ]
  },
  {
   "cell_type": "code",
   "execution_count": 6,
   "metadata": {},
   "outputs": [],
   "source": [
    "mystring = \"veenit\""
   ]
  },
  {
   "cell_type": "code",
   "execution_count": 8,
   "metadata": {},
   "outputs": [
    {
     "name": "stdout",
     "output_type": "stream",
     "text": [
      "v\n",
      "e\n",
      "e\n"
     ]
    }
   ],
   "source": [
    "for letters in mystring:\n",
    "    if letters == 'n':\n",
    "        break\n",
    "    print(letters)"
   ]
  },
  {
   "cell_type": "code",
   "execution_count": 2,
   "metadata": {},
   "outputs": [
    {
     "name": "stdout",
     "output_type": "stream",
     "text": [
      "current value of x = 0\n",
      "continuing....\n",
      "current value of x = 1\n",
      "continuing....\n",
      "current value of x = 2\n",
      "continuing....\n",
      "current value of x = 3\n",
      "continuing....\n",
      "current value of x = 4\n",
      "continuing....\n",
      "current value of x = 5\n",
      "Breaking because x == 6\n"
     ]
    }
   ],
   "source": [
    "x = 0\n",
    "\n",
    "while x < 10:\n",
    "    print(\"current value of x = {}\".format(x))\n",
    "    x += 1\n",
    "    if x == 6:\n",
    "        print('Breaking because x == 6')\n",
    "        break\n",
    "    else:\n",
    "        print('continuing....') # else statement is not printed after break"
   ]
  },
  {
   "cell_type": "markdown",
   "metadata": {},
   "source": [
    "# continue\n",
    "\n",
    "Goes to the top of the closest enclosing loop."
   ]
  },
  {
   "cell_type": "code",
   "execution_count": 19,
   "metadata": {},
   "outputs": [
    {
     "name": "stdout",
     "output_type": "stream",
     "text": [
      "Current x = 0\n",
      "continuing...\n",
      "Current x = 1\n",
      "continuing...\n",
      "Current x = 2\n",
      "x====3\n",
      "Current x = 3\n",
      "continuing...\n",
      "Current x = 4\n",
      "continuing...\n",
      "Current x = 5\n",
      "continuing...\n",
      "Current x = 6\n",
      "continuing...\n",
      "Current x = 7\n",
      "continuing...\n",
      "Current x = 8\n",
      "continuing...\n",
      "Current x = 9\n",
      "continuing...\n"
     ]
    }
   ],
   "source": [
    "x =0 \n",
    "\n",
    "while x < 10:\n",
    "    print(f'Current x = {x}')\n",
    "    x += 1\n",
    "    if x == 3:\n",
    "        print('x====3')\n",
    "        \n",
    "    else:\n",
    "        print('continuing...')\n",
    "        continue"
   ]
  },
  {
   "cell_type": "code",
   "execution_count": 5,
   "metadata": {},
   "outputs": [],
   "source": [
    "s =\"Veenit\""
   ]
  },
  {
   "cell_type": "code",
   "execution_count": 11,
   "metadata": {},
   "outputs": [
    {
     "name": "stdout",
     "output_type": "stream",
     "text": [
      "V\n",
      "e\n",
      "e\n",
      "skipping 'n\n",
      "i\n",
      "t\n"
     ]
    }
   ],
   "source": [
    "for char in s:\n",
    "    if char == 'n':\n",
    "        print('skipping \\'n')\n",
    "        continue\n",
    "    print(char)"
   ]
  },
  {
   "cell_type": "markdown",
   "metadata": {},
   "source": [
    "# pass\n",
    "\n",
    "Does nothing at all"
   ]
  },
  {
   "cell_type": "code",
   "execution_count": 12,
   "metadata": {},
   "outputs": [],
   "source": [
    "a = 'Abhijeet'"
   ]
  },
  {
   "cell_type": "code",
   "execution_count": 14,
   "metadata": {},
   "outputs": [
    {
     "ename": "SyntaxError",
     "evalue": "unexpected EOF while parsing (<ipython-input-14-09eb3a8fc4cf>, line 2)",
     "output_type": "error",
     "traceback": [
      "\u001b[1;36m  File \u001b[1;32m\"<ipython-input-14-09eb3a8fc4cf>\"\u001b[1;36m, line \u001b[1;32m2\u001b[0m\n\u001b[1;33m    # doing nothing\u001b[0m\n\u001b[1;37m                   ^\u001b[0m\n\u001b[1;31mSyntaxError\u001b[0m\u001b[1;31m:\u001b[0m unexpected EOF while parsing\n"
     ]
    }
   ],
   "source": [
    "for alphabet in a:\n",
    "     # because idented it need some statements"
   ]
  },
  {
   "cell_type": "code",
   "execution_count": 16,
   "metadata": {},
   "outputs": [],
   "source": [
    "for alphabet in a:\n",
    "    pass # no error now because pass statement does nothing"
   ]
  },
  {
   "cell_type": "code",
   "execution_count": 20,
   "metadata": {},
   "outputs": [
    {
     "name": "stdout",
     "output_type": "stream",
     "text": [
      "currently x is 0\n",
      "continuing.............\n",
      "currently x is 1\n",
      "continuing.............\n",
      "currently x is 2\n",
      "continuing.............\n",
      "currently x is 3\n",
      "continuing.............\n",
      "currently x is 4\n",
      "x============5\n"
     ]
    }
   ],
   "source": [
    "x = 0\n",
    "\n",
    "while x < 10:\n",
    "    print(\"currently x is {}\".format(x))\n",
    "    x +=1\n",
    "    if x == 5:\n",
    "        print('x============5')\n",
    "        break\n",
    "    else:\n",
    "        print('continuing.............')\n",
    "        continue\n",
    "        \n",
    "  # note that continuing..... is not printed after break  "
   ]
  },
  {
   "cell_type": "markdown",
   "metadata": {},
   "source": [
    "It is possible to create infinitly running loop using **while**."
   ]
  },
  {
   "cell_type": "code",
   "execution_count": null,
   "metadata": {},
   "outputs": [],
   "source": [
    "# DON'T RUN THIS\n",
    "while True:\n",
    "    print(\"I'm stuck in a infinite loop!!\")\n"
   ]
  },
  {
   "cell_type": "code",
   "execution_count": null,
   "metadata": {},
   "outputs": [],
   "source": [
    "x = 0\n",
    "\n",
    "while x < 10:\n",
    "    print('Infinte loop.Ooops!!')\n",
    "    # because we are not increasing x each time( x += 1)"
   ]
  },
  {
   "cell_type": "markdown",
   "metadata": {},
   "source": [
    "."
   ]
  },
  {
   "cell_type": "code",
   "execution_count": null,
   "metadata": {},
   "outputs": [],
   "source": []
  }
 ],
 "metadata": {
  "kernelspec": {
   "display_name": "Python 3",
   "language": "python",
   "name": "python3"
  },
  "language_info": {
   "codemirror_mode": {
    "name": "ipython",
    "version": 3
   },
   "file_extension": ".py",
   "mimetype": "text/x-python",
   "name": "python",
   "nbconvert_exporter": "python",
   "pygments_lexer": "ipython3",
   "version": "3.6.5"
  }
 },
 "nbformat": 4,
 "nbformat_minor": 2
}
