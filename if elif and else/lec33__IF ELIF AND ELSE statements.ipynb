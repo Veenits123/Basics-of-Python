{
 "cells": [
  {
   "cell_type": "markdown",
   "metadata": {},
   "source": [
    "To control the flow of logic (some condition, some action) we use some keywords:-                  \n",
    "* **if**                                                                         \n",
    "* **elif**                                                                 \n",
    "* **else**"
   ]
  },
  {
   "cell_type": "markdown",
   "metadata": {},
   "source": [
    "Contol flow syntax makes use of colons(**:**) and **identation**(whitespace)."
   ]
  },
  {
   "cell_type": "markdown",
   "metadata": {},
   "source": [
    "Syntax of if statement:\n",
    "\n",
    "**if** some_condition:\n",
    "            # execute some code\n",
    "**elif** some_other_conditon:\n",
    "            # execute something different\n",
    "**else**:\n",
    "            # do something else\n",
    "    "
   ]
  },
  {
   "cell_type": "markdown",
   "metadata": {},
   "source": [
    "Verbally we are telling Computer:- \n",
    "    \"Hey, if this case happens,perform some action(**if**).          \n",
    "    Else, if another case happens, performsome other action(**elif**).  \n",
    "    Else, if none of the above cases happened, perform this action(**else**).\n",
    "    "
   ]
  },
  {
   "cell_type": "markdown",
   "metadata": {},
   "source": [
    "**if** case1:\n",
    "\n",
    "        perform action1\n",
    "**elif** case2:\n",
    "\n",
    "        perform action2\n",
    "**else:**\n",
    "\n",
    "        perform action3"
   ]
  },
  {
   "cell_type": "markdown",
   "metadata": {},
   "source": [
    "## Let's see some example."
   ]
  },
  {
   "cell_type": "code",
   "execution_count": 3,
   "metadata": {},
   "outputs": [
    {
     "name": "stdout",
     "output_type": "stream",
     "text": [
      "Haan, it's TRUE\n"
     ]
    }
   ],
   "source": [
    "if True:\n",
    "    print(\"Haan, it's TRUE\")"
   ]
  },
  {
   "cell_type": "code",
   "execution_count": 4,
   "metadata": {},
   "outputs": [],
   "source": [
    "if False:\n",
    "    print(\"No, it's NOT\")"
   ]
  },
  {
   "cell_type": "code",
   "execution_count": 7,
   "metadata": {},
   "outputs": [
    {
     "name": "stdout",
     "output_type": "stream",
     "text": [
      "No, x was not True\n"
     ]
    }
   ],
   "source": [
    "x = False\n",
    "\n",
    "if x:\n",
    "    print('x was True')\n",
    "else:\n",
    "    print(\"No, x was not True\")"
   ]
  },
  {
   "cell_type": "code",
   "execution_count": 8,
   "metadata": {},
   "outputs": [
    {
     "name": "stdout",
     "output_type": "stream",
     "text": [
      "Let's start shopping\n"
     ]
    }
   ],
   "source": [
    "loc = 'Mall'\n",
    "\n",
    "if loc == \"Bank\":\n",
    "    print('Welcome to bank')\n",
    "elif loc == 'Mall':\n",
    "    print('Let\\'s start shopping')\n",
    "else:\n",
    "    print(\"Where are you, Welcome!!\")"
   ]
  },
  {
   "cell_type": "markdown",
   "metadata": {},
   "source": [
    "## We can put in as many<code> *elif*</code> statements as we want before you close off with an <code>*else*</code>."
   ]
  },
  {
   "cell_type": "code",
   "execution_count": 10,
   "metadata": {},
   "outputs": [
    {
     "name": "stdout",
     "output_type": "stream",
     "text": [
      "Hiii Varun!!\n"
     ]
    }
   ],
   "source": [
    "person = 'Varun'\n",
    "\n",
    "if person == 'Sammy':\n",
    "    print(\"Hiii Sammy!!\")\n",
    "elif person == 'Veenit':\n",
    "    print(\"Hiii Veenit!!\")\n",
    "elif person == 'Varun':\n",
    "    print('Hiii Varun!!')\n",
    "else:\n",
    "    print(\"Who are you??\")"
   ]
  },
  {
   "cell_type": "code",
   "execution_count": 11,
   "metadata": {},
   "outputs": [
    {
     "name": "stdout",
     "output_type": "stream",
     "text": [
      "Who are you??\n"
     ]
    }
   ],
   "source": [
    "person = 'Varun'\n",
    "\n",
    "if person == \"Sammy\":\n",
    "    print(\"Hiii Sammy!!\")\n",
    "else:\n",
    "    print('Who are you??')"
   ]
  },
  {
   "cell_type": "markdown",
   "metadata": {},
   "source": [
    "**Note**: <code>*if*</code> statement checks each time until a True boolean causes the code to run."
   ]
  },
  {
   "cell_type": "code",
   "execution_count": null,
   "metadata": {},
   "outputs": [],
   "source": []
  }
 ],
 "metadata": {
  "kernelspec": {
   "display_name": "Python 3",
   "language": "python",
   "name": "python3"
  },
  "language_info": {
   "codemirror_mode": {
    "name": "ipython",
    "version": 3
   },
   "file_extension": ".py",
   "mimetype": "text/x-python",
   "name": "python",
   "nbconvert_exporter": "python",
   "pygments_lexer": "ipython3",
   "version": "3.6.5"
  }
 },
 "nbformat": 4,
 "nbformat_minor": 2
}
